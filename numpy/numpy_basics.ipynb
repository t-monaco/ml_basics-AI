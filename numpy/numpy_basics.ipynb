{
 "cells": [
  {
   "cell_type": "code",
   "execution_count": 1,
   "metadata": {},
   "outputs": [
    {
     "name": "stdout",
     "output_type": "stream",
     "text": [
      "Requirement already satisfied: numpy in /usr/local/lib/python3.11/site-packages (1.24.3)\n"
     ]
    }
   ],
   "source": [
    "%pip install numpy"
   ]
  },
  {
   "cell_type": "code",
   "execution_count": 2,
   "metadata": {},
   "outputs": [],
   "source": [
    "import numpy as np"
   ]
  },
  {
   "cell_type": "markdown",
   "metadata": {},
   "source": [
    "# 1. Create"
   ]
  },
  {
   "cell_type": "code",
   "execution_count": 9,
   "metadata": {},
   "outputs": [
    {
     "data": {
      "text/plain": [
       "array([[[0.59387605, 0.31703629, 0.88204991, 0.01345226],\n",
       "        [0.04254327, 0.67953791, 0.9326104 , 0.50357816],\n",
       "        [0.87508723, 0.00672746, 0.04659363, 0.92256918]],\n",
       "\n",
       "       [[0.77266068, 0.99477646, 0.03765304, 0.99894915],\n",
       "        [0.94868739, 0.69316183, 0.55531103, 0.0457225 ],\n",
       "        [0.00408406, 0.81291357, 0.63577107, 0.25183203]]])"
      ]
     },
     "execution_count": 9,
     "metadata": {},
     "output_type": "execute_result"
    }
   ],
   "source": [
    "data = np.random.rand(2,3,4)\n",
    "data"
   ]
  },
  {
   "cell_type": "code",
   "execution_count": 13,
   "metadata": {},
   "outputs": [
    {
     "data": {
      "text/plain": [
       "array([[[0., 0., 0., 0.],\n",
       "        [0., 0., 0., 0.],\n",
       "        [0., 0., 0., 0.]],\n",
       "\n",
       "       [[0., 0., 0., 0.],\n",
       "        [0., 0., 0., 0.],\n",
       "        [0., 0., 0., 0.]]])"
      ]
     },
     "execution_count": 13,
     "metadata": {},
     "output_type": "execute_result"
    }
   ],
   "source": [
    "zeros = np.zeros((2,3,4))\n",
    "zeros"
   ]
  },
  {
   "cell_type": "code",
   "execution_count": 14,
   "metadata": {},
   "outputs": [
    {
     "data": {
      "text/plain": [
       "array([[[1., 1., 1., 1.],\n",
       "        [1., 1., 1., 1.],\n",
       "        [1., 1., 1., 1.]],\n",
       "\n",
       "       [[1., 1., 1., 1.],\n",
       "        [1., 1., 1., 1.],\n",
       "        [1., 1., 1., 1.]]])"
      ]
     },
     "execution_count": 14,
     "metadata": {},
     "output_type": "execute_result"
    }
   ],
   "source": [
    "ones = np.ones((2,3,4))\n",
    "ones"
   ]
  },
  {
   "cell_type": "code",
   "execution_count": 15,
   "metadata": {},
   "outputs": [
    {
     "data": {
      "text/plain": [
       "array([[[7, 7, 7, 7],\n",
       "        [7, 7, 7, 7],\n",
       "        [7, 7, 7, 7]],\n",
       "\n",
       "       [[7, 7, 7, 7],\n",
       "        [7, 7, 7, 7],\n",
       "        [7, 7, 7, 7]]])"
      ]
     },
     "execution_count": 15,
     "metadata": {},
     "output_type": "execute_result"
    }
   ],
   "source": [
    "full = np.full((2,3,4), 7)\n",
    "full"
   ]
  },
  {
   "cell_type": "code",
   "execution_count": 18,
   "metadata": {},
   "outputs": [
    {
     "data": {
      "text/plain": [
       "array([[1, 2, 3, 4],\n",
       "       [5, 6, 7, 8]])"
      ]
     },
     "execution_count": 18,
     "metadata": {},
     "output_type": "execute_result"
    }
   ],
   "source": [
    "arr = np.array([[1,2,3,4], [5,6,7,8]])\n",
    "arr"
   ]
  },
  {
   "cell_type": "markdown",
   "metadata": {},
   "source": [
    "# 2. Read"
   ]
  },
  {
   "cell_type": "code",
   "execution_count": 19,
   "metadata": {},
   "outputs": [
    {
     "data": {
      "text/plain": [
       "(2, 3, 4)"
      ]
     },
     "execution_count": 19,
     "metadata": {},
     "output_type": "execute_result"
    }
   ],
   "source": [
    "data.shape"
   ]
  },
  {
   "cell_type": "code",
   "execution_count": 20,
   "metadata": {},
   "outputs": [
    {
     "data": {
      "text/plain": [
       "24"
      ]
     },
     "execution_count": 20,
     "metadata": {},
     "output_type": "execute_result"
    }
   ],
   "source": [
    "data.size"
   ]
  },
  {
   "cell_type": "code",
   "execution_count": 21,
   "metadata": {},
   "outputs": [
    {
     "data": {
      "text/plain": [
       "dtype('float64')"
      ]
     },
     "execution_count": 21,
     "metadata": {},
     "output_type": "execute_result"
    }
   ],
   "source": [
    "data.dtype"
   ]
  },
  {
   "cell_type": "code",
   "execution_count": 22,
   "metadata": {},
   "outputs": [
    {
     "data": {
      "text/plain": [
       "array([[0.59387605, 0.31703629, 0.88204991, 0.01345226],\n",
       "       [0.04254327, 0.67953791, 0.9326104 , 0.50357816],\n",
       "       [0.87508723, 0.00672746, 0.04659363, 0.92256918]])"
      ]
     },
     "execution_count": 22,
     "metadata": {},
     "output_type": "execute_result"
    }
   ],
   "source": [
    "new_arr = data[0]\n",
    "new_arr"
   ]
  },
  {
   "cell_type": "code",
   "execution_count": 24,
   "metadata": {},
   "outputs": [
    {
     "data": {
      "text/plain": [
       "array([[[0.59387605, 0.31703629, 0.88204991, 0.01345226],\n",
       "        [0.04254327, 0.67953791, 0.9326104 , 0.50357816],\n",
       "        [0.87508723, 0.00672746, 0.04659363, 0.92256918]],\n",
       "\n",
       "       [[0.77266068, 0.99477646, 0.03765304, 0.99894915],\n",
       "        [0.94868739, 0.69316183, 0.55531103, 0.0457225 ],\n",
       "        [0.00408406, 0.81291357, 0.63577107, 0.25183203]]])"
      ]
     },
     "execution_count": 24,
     "metadata": {},
     "output_type": "execute_result"
    }
   ],
   "source": [
    "slicer = data[0:2]\n",
    "slicer"
   ]
  },
  {
   "cell_type": "code",
   "execution_count": 28,
   "metadata": {},
   "outputs": [
    {
     "data": {
      "text/plain": [
       "array([[0.77266068, 0.99477646, 0.03765304, 0.99894915],\n",
       "       [0.94868739, 0.69316183, 0.55531103, 0.0457225 ],\n",
       "       [0.00408406, 0.81291357, 0.63577107, 0.25183203]])"
      ]
     },
     "execution_count": 28,
     "metadata": {},
     "output_type": "execute_result"
    }
   ],
   "source": [
    "last_arr = data[-1]\n",
    "last_arr"
   ]
  },
  {
   "cell_type": "code",
   "execution_count": 27,
   "metadata": {},
   "outputs": [
    {
     "data": {
      "text/plain": [
       "0.5938760539655104"
      ]
     },
     "execution_count": 27,
     "metadata": {},
     "output_type": "execute_result"
    }
   ],
   "source": [
    "single_val = data[0][0][0]\n",
    "single_val"
   ]
  },
  {
   "cell_type": "markdown",
   "metadata": {},
   "source": [
    "# 3. Update"
   ]
  },
  {
   "cell_type": "code",
   "execution_count": 29,
   "metadata": {
    "tags": []
   },
   "outputs": [],
   "source": [
    "list1 = np.random.rand(10)\n",
    "list2  = np.random.rand(10)"
   ]
  },
  {
   "cell_type": "code",
   "execution_count": 30,
   "metadata": {},
   "outputs": [],
   "source": [
    "add = np.add(list1, list2)\n",
    "sub = np.subtract(list1, list2)\n",
    "div = np.divide(list1, list2)\n",
    "mult = np.multiply(list1, list2)\n",
    "dot = np.dot(list1, list2)"
   ]
  },
  {
   "cell_type": "code",
   "execution_count": 37,
   "metadata": {},
   "outputs": [],
   "source": [
    "sqrt = np.sqrt(25)\n",
    "abs = np.abs(-2)\n",
    "power = np.power(2,5)\n",
    "log = np.log(25)\n",
    "exp = np.exp([2, 3])\n",
    "min = np.min(list1)\n",
    "max = np.max(list1)"
   ]
  },
  {
   "cell_type": "code",
   "execution_count": 38,
   "metadata": {},
   "outputs": [
    {
     "data": {
      "text/plain": [
       "array([[[0.59387605, 0.31703629, 0.88204991, 0.01345226],\n",
       "        [0.04254327, 0.67953791, 0.9326104 , 0.50357816],\n",
       "        [0.87508723, 0.00672746, 0.04659363, 0.92256918]],\n",
       "\n",
       "       [[0.77266068, 0.99477646, 0.03765304, 0.99894915],\n",
       "        [0.94868739, 0.69316183, 0.55531103, 0.0457225 ],\n",
       "        [0.00408406, 0.81291357, 0.63577107, 0.25183203]]])"
      ]
     },
     "execution_count": 38,
     "metadata": {},
     "output_type": "execute_result"
    }
   ],
   "source": [
    "data"
   ]
  },
  {
   "cell_type": "code",
   "execution_count": 39,
   "metadata": {},
   "outputs": [],
   "source": [
    "data[0][0][2] = 777"
   ]
  },
  {
   "cell_type": "code",
   "execution_count": 40,
   "metadata": {},
   "outputs": [
    {
     "data": {
      "text/plain": [
       "array([[[5.93876054e-01, 3.17036288e-01, 7.77000000e+02, 1.34522597e-02],\n",
       "        [4.25432720e-02, 6.79537908e-01, 9.32610405e-01, 5.03578157e-01],\n",
       "        [8.75087230e-01, 6.72745670e-03, 4.65936279e-02, 9.22569179e-01]],\n",
       "\n",
       "       [[7.72660678e-01, 9.94776456e-01, 3.76530448e-02, 9.98949147e-01],\n",
       "        [9.48687388e-01, 6.93161826e-01, 5.55311032e-01, 4.57225024e-02],\n",
       "        [4.08405542e-03, 8.12913574e-01, 6.35771065e-01, 2.51832027e-01]]])"
      ]
     },
     "execution_count": 40,
     "metadata": {},
     "output_type": "execute_result"
    }
   ],
   "source": [
    "data"
   ]
  },
  {
   "cell_type": "code",
   "execution_count": 41,
   "metadata": {},
   "outputs": [
    {
     "data": {
      "text/plain": [
       "array([[[1.34522597e-02, 3.17036288e-01, 5.93876054e-01, 7.77000000e+02],\n",
       "        [4.25432720e-02, 5.03578157e-01, 6.79537908e-01, 9.32610405e-01],\n",
       "        [6.72745670e-03, 4.65936279e-02, 8.75087230e-01, 9.22569179e-01]],\n",
       "\n",
       "       [[3.76530448e-02, 7.72660678e-01, 9.94776456e-01, 9.98949147e-01],\n",
       "        [4.57225024e-02, 5.55311032e-01, 6.93161826e-01, 9.48687388e-01],\n",
       "        [4.08405542e-03, 2.51832027e-01, 6.35771065e-01, 8.12913574e-01]]])"
      ]
     },
     "execution_count": 41,
     "metadata": {},
     "output_type": "execute_result"
    }
   ],
   "source": [
    "data.sort()\n",
    "data"
   ]
  },
  {
   "cell_type": "code",
   "execution_count": 42,
   "metadata": {},
   "outputs": [
    {
     "data": {
      "text/plain": [
       "(2, 3, 4)"
      ]
     },
     "execution_count": 42,
     "metadata": {},
     "output_type": "execute_result"
    }
   ],
   "source": [
    "data.shape"
   ]
  },
  {
   "cell_type": "code",
   "execution_count": 43,
   "metadata": {},
   "outputs": [
    {
     "data": {
      "text/plain": [
       "(2, 2, 6)"
      ]
     },
     "execution_count": 43,
     "metadata": {},
     "output_type": "execute_result"
    }
   ],
   "source": [
    "data_n_shape = data.reshape((2,2,-1))\n",
    "data_n_shape.shape"
   ]
  },
  {
   "cell_type": "code",
   "execution_count": 49,
   "metadata": {},
   "outputs": [
    {
     "name": "stdout",
     "output_type": "stream",
     "text": [
      "[0. 0. 0. 0. 0. 0.] \n",
      "\n",
      "[ 0.  0.  0.  0.  0.  0. 44. 89.] \n",
      "\n",
      "[ 0. 77.  0.  0.  0.  0.  0. 44. 89.]\n"
     ]
    }
   ],
   "source": [
    "zeros = np.zeros(6)\n",
    "print(zeros, '\\n')\n",
    "zeros = np.append(zeros, [44, 89])\n",
    "print(zeros, '\\n')\n",
    "zeros = np.insert(zeros, 1, 77)\n",
    "print(zeros)"
   ]
  },
  {
   "cell_type": "markdown",
   "metadata": {},
   "source": [
    "# 4. Delete"
   ]
  },
  {
   "cell_type": "code",
   "execution_count": 50,
   "metadata": {},
   "outputs": [
    {
     "data": {
      "text/plain": [
       "array([[[1.34522597e-02, 3.17036288e-01, 5.93876054e-01, 7.77000000e+02],\n",
       "        [4.25432720e-02, 5.03578157e-01, 6.79537908e-01, 9.32610405e-01],\n",
       "        [6.72745670e-03, 4.65936279e-02, 8.75087230e-01, 9.22569179e-01]],\n",
       "\n",
       "       [[3.76530448e-02, 7.72660678e-01, 9.94776456e-01, 9.98949147e-01],\n",
       "        [4.57225024e-02, 5.55311032e-01, 6.93161826e-01, 9.48687388e-01],\n",
       "        [4.08405542e-03, 2.51832027e-01, 6.35771065e-01, 8.12913574e-01]]])"
      ]
     },
     "execution_count": 50,
     "metadata": {},
     "output_type": "execute_result"
    }
   ],
   "source": [
    "data"
   ]
  },
  {
   "cell_type": "code",
   "execution_count": 51,
   "metadata": {},
   "outputs": [
    {
     "data": {
      "text/plain": [
       "(2, 3, 4)"
      ]
     },
     "execution_count": 51,
     "metadata": {},
     "output_type": "execute_result"
    }
   ],
   "source": [
    "data.shape"
   ]
  },
  {
   "cell_type": "code",
   "execution_count": 55,
   "metadata": {},
   "outputs": [],
   "source": [
    "data = np.delete(data, 0, axis=1)"
   ]
  },
  {
   "cell_type": "code",
   "execution_count": 56,
   "metadata": {},
   "outputs": [
    {
     "data": {
      "text/plain": [
       "(2, 2, 4)"
      ]
     },
     "execution_count": 56,
     "metadata": {},
     "output_type": "execute_result"
    }
   ],
   "source": [
    "data.shape"
   ]
  },
  {
   "cell_type": "code",
   "execution_count": 57,
   "metadata": {},
   "outputs": [
    {
     "data": {
      "text/plain": [
       "array([[[0.04254327, 0.50357816, 0.67953791, 0.9326104 ],\n",
       "        [0.00672746, 0.04659363, 0.87508723, 0.92256918]],\n",
       "\n",
       "       [[0.0457225 , 0.55531103, 0.69316183, 0.94868739],\n",
       "        [0.00408406, 0.25183203, 0.63577107, 0.81291357]]])"
      ]
     },
     "execution_count": 57,
     "metadata": {},
     "output_type": "execute_result"
    }
   ],
   "source": [
    "data"
   ]
  },
  {
   "cell_type": "code",
   "execution_count": 61,
   "metadata": {},
   "outputs": [
    {
     "name": "stdout",
     "output_type": "stream",
     "text": [
      "2206.00s - pydevd: Sending message related to process being replaced timed-out after 5 seconds\n",
      "mkdir: exports: File exists\n"
     ]
    }
   ],
   "source": [
    "import os\n",
    "!mkdir exports\n",
    "np.save(os.path.join('exports', 'data_test_arr.npy'), data)"
   ]
  },
  {
   "cell_type": "code",
   "execution_count": 62,
   "metadata": {},
   "outputs": [
    {
     "data": {
      "text/plain": [
       "array([[[0.04254327, 0.50357816, 0.67953791, 0.9326104 ],\n",
       "        [0.00672746, 0.04659363, 0.87508723, 0.92256918]],\n",
       "\n",
       "       [[0.0457225 , 0.55531103, 0.69316183, 0.94868739],\n",
       "        [0.00408406, 0.25183203, 0.63577107, 0.81291357]]])"
      ]
     },
     "execution_count": 62,
     "metadata": {},
     "output_type": "execute_result"
    }
   ],
   "source": [
    "test = np.load(os.path.join('exports', 'data_test_arr.npy'))\n",
    "test"
   ]
  }
 ],
 "metadata": {
  "kernelspec": {
   "display_name": "Python 3",
   "language": "python",
   "name": "python3"
  },
  "language_info": {
   "codemirror_mode": {
    "name": "ipython",
    "version": 3
   },
   "file_extension": ".py",
   "mimetype": "text/x-python",
   "name": "python",
   "nbconvert_exporter": "python",
   "pygments_lexer": "ipython3",
   "version": "3.11.4"
  },
  "orig_nbformat": 4
 },
 "nbformat": 4,
 "nbformat_minor": 2
}
